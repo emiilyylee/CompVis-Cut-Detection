{
 "cells": [
  {
   "cell_type": "code",
   "execution_count": 1,
   "metadata": {},
   "outputs": [],
   "source": [
    "import cv2\n",
    "import matplotlib.pyplot as plt\n",
    "import numpy as np\n",
    "import os\n",
    "from glob import glob\n",
    "\n",
    "%matplotlib inline\n",
    "plt.rcParams['figure.figsize'] = [16, 10]   # matplotlib setting to control the size of display images"
   ]
  },
  {
   "cell_type": "code",
   "execution_count": 8,
   "metadata": {},
   "outputs": [],
   "source": [
    "def imload(impath):\n",
    "    img = cv2.cvtColor(cv2.imread(impath), cv2.COLOR_BGR2RGB)\n",
    "    gray = cv2.cvtColor(img, cv2.COLOR_RGB2GRAY)\n",
    "    \n",
    "    return img, gray\n",
    "\n",
    "\n",
    "def keypoint_matching(img1, img2):\n",
    "    # load in the images\n",
    "    img_left, gray_left = imload(img1)\n",
    "    img_right, gray_right = imload(img2)\n",
    "\n",
    "    # use SIFT to find the features\n",
    "    descriptor = cv2.SIFT_create()\n",
    "    kpsL, featsL = descriptor.detectAndCompute(gray_left, None)\n",
    "    kpsR, featsR = descriptor.detectAndCompute(gray_right, None)\n",
    "\n",
    "    # -- show the keypoints --\n",
    "    # fig, (ax1,ax2) = plt.subplots(1,2)\n",
    "    # ax1.imshow(cv2.drawKeypoints(gray_left,kpsL,None,color=(0,255,0)))\n",
    "    # ax2.imshow(cv2.drawKeypoints(gray_right,kpsR,None,color=(0,255,0)))\n",
    "\n",
    "    # using NORM_L2-- based off of euclidian distance\n",
    "    matcher = cv2.BFMatcher(cv2.NORM_L2, crossCheck=False)\n",
    "\n",
    "    matches = matcher.match(featsL, featsR)\n",
    "    sorted_matches = sorted(matches, key = lambda x:x.distance)\n",
    "\n",
    "    # -- raise the threshold if you want more keypoints --\n",
    "    thresh = 75\n",
    "    good_matches = []\n",
    "\n",
    "    maxR = 0\n",
    "    maxL = 0\n",
    "    \n",
    "    for i in sorted_matches: \n",
    "        if i.distance < thresh:\n",
    "            good_matches.append(i)\n",
    "            if i.queryIdx > maxR:\n",
    "                maxR = i.queryIdx\n",
    "            if i.trainIdx > maxL:\n",
    "                maxL = i.trainIdx\n",
    "\n",
    "    # minimum number of matches that we will accept:\n",
    "    min_matches = 10\n",
    "    score = 1\n",
    "\n",
    "    # use homography to narrow down the results\n",
    "    if len(good_matches) > min_matches:\n",
    "        coordsR = np.float32([kp.pt for kp in kpsR]) \n",
    "        coordsL = np.float32([kp.pt for kp in kpsL])\n",
    "\n",
    "        # match them up by matches\n",
    "        mcoordsR = np.float32([coordsR[mtch.trainIdx] for mtch in good_matches])\n",
    "        mcoordsL = np.float32([coordsL[mtch.queryIdx] for mtch in good_matches])\n",
    "\n",
    "        reprojectThresh = 4\n",
    "\n",
    "        np.set_printoptions(precision=4, suppress=True)\n",
    "        \n",
    "        # use all of the points for a more accurate result\n",
    "        (H, status) = cv2.findHomography(mcoordsL, mcoordsR, cv2.RANSAC, reprojectThresh)\n",
    "\n",
    "        # drawing matches from the good_matches array-- the ones that passed the ratio test\n",
    "        matched_img = cv2.drawMatches(gray_left, kpsL, gray_right, kpsR, good_matches, None, flags=cv2.DrawMatchesFlags_NOT_DRAW_SINGLE_POINTS)\n",
    "\n",
    "        # -- drawing out the matches -- \n",
    "        # plt.figure()\n",
    "        # plt.imshow(matched_img)\n",
    "        # plt.axis('off')\n",
    "\n",
    "        # the ratio of false positives over the number of good matches found\n",
    "        score = sum(status)/len(good_matches)\n",
    "\n",
    "    return score"
   ]
  },
  {
   "cell_type": "code",
   "execution_count": 10,
   "metadata": {},
   "outputs": [
    {
     "name": "stdout",
     "output_type": "stream",
     "text": [
      "there is a hard cut from amadeus_00032.png to amadeus_00033.png\n",
      "there is a hard cut from amadeus_00086.png to amadeus_00087.png\n",
      "there is a hard cut from amadeus_00185.png to amadeus_00186.png\n",
      "there is a hard cut from amadeus_00226.png to amadeus_00227.png\n",
      "there is a hard cut from amadeus_00326.png to amadeus_00327.png\n",
      "there is a hard cut from amadeus_00572.png to amadeus_00573.png\n",
      "there are 6 hard cuts total\n"
     ]
    }
   ],
   "source": [
    "### MAIN FUNCTION ###\n",
    "\n",
    "# iterating through pairs of photos in the folder and pairing them up\n",
    "path = \"amadeus\"    # the folder in which the frames are located-- change if you are looking at another folder!\n",
    "count = 0\n",
    "frames = sorted(os.listdir(path))\n",
    "for i in range(len(frames) - 1):    \n",
    "    simScore = keypoint_matching(path + \"/\" + frames[i], path + \"/\" + frames[i + 1])\n",
    "    if simScore >= 1:\n",
    "        count += 1\n",
    "        print(\"there is a hard cut from \" + frames[i] + \" to \" + frames[i+1])\n",
    "    \n",
    "print(\"there are \" + str(count) + \" hard cuts total\")        "
   ]
  }
 ],
 "metadata": {
  "interpreter": {
   "hash": "7d7243d62b360530e73749b5ff253d01475a3a02f9c8d6cfc9a76d142e1edab0"
  },
  "kernelspec": {
   "display_name": "Python 3 (ipykernel)",
   "language": "python",
   "name": "python3"
  },
  "language_info": {
   "codemirror_mode": {
    "name": "ipython",
    "version": 3
   },
   "file_extension": ".py",
   "mimetype": "text/x-python",
   "name": "python",
   "nbconvert_exporter": "python",
   "pygments_lexer": "ipython3",
   "version": "3.9.7"
  }
 },
 "nbformat": 4,
 "nbformat_minor": 2
}
